{
 "cells": [
  {
   "cell_type": "code",
   "execution_count": null,
   "id": "ad57317c",
   "metadata": {},
   "outputs": [],
   "source": [
    "import yfinance as yf\n",
    "import pandas as pd\n",
    "import numpy as np\n",
    "import os"
   ]
  },
  {
   "cell_type": "code",
   "execution_count": null,
   "id": "7c358d75",
   "metadata": {},
   "outputs": [],
   "source": [
    "# sp500 = yf.Ticker(\"^GSPC\")\n",
    "\n",
    "# # sp500.info\n",
    "# sp500 = sp500.history(period=\"max\")\n",
    "# sp500.to_csv(\"sp500.csv\")\n",
    "\n",
    "if os.path.exists(\"sp500.csv\"):\n",
    "    sp500 = pd.read_csv(\"sp500.csv\")\n",
    "else:\n",
    "    sp500 = yf.Ticker(\"^GSPC\")\n",
    "    sp500 = sp500.history(period=\"max\")\n",
    "    sp500.to_csv(\"sp500.csv\")\n",
    "    \n",
    "sp500"
   ]
  },
  {
   "cell_type": "code",
   "execution_count": null,
   "id": "389dd4b5",
   "metadata": {},
   "outputs": [],
   "source": [
    "# clean data\n",
    "print(sp500.isnull().sum())\n",
    "print(\"\\n===========================================\\n\")\n",
    "print(sp500.info)"
   ]
  },
  {
   "cell_type": "code",
   "execution_count": null,
   "id": "57919b47",
   "metadata": {},
   "outputs": [],
   "source": [
    "sp500.drop(columns = [\"Dividends\", \"Stock Splits\"], inplace=True)"
   ]
  },
  {
   "cell_type": "code",
   "execution_count": null,
   "id": "21decb23",
   "metadata": {},
   "outputs": [],
   "source": [
    "'''\n",
    "> encountered errors due to timezone information in the date column.\n",
    "> i need to standardize the datetimes to utc to remove timezone discrepancy as datetime have specific time zone awareness\n",
    "> i needed to make datetime naive by removing the timezone context entirely.\n",
    "'''\n",
    "sp500[\"Date\"] = pd.to_datetime(sp500[\"Date\"], utc=True)\n",
    "sp500[\"Date\"] = sp500[\"Date\"].dt.tz_localize(None)\n",
    "sp500[\"Date\"] = sp500[\"Date\"].dt.date\n",
    "\n",
    "\n",
    "sp500.set_index(\"Date\", inplace=True)"
   ]
  },
  {
   "cell_type": "code",
   "execution_count": null,
   "id": "20c74570",
   "metadata": {},
   "outputs": [],
   "source": []
  },
  {
   "cell_type": "code",
   "execution_count": null,
   "id": "0550baf2",
   "metadata": {},
   "outputs": [],
   "source": [
    "import matplotlib.pyplot as plt\n",
    "'''\n",
    "use the close column as it is the final price of the stock before the stock market closes.\n",
    "'''\n",
    "x = sp500.index\n",
    "y = sp500[\"Close\"]\n",
    "\n",
    "plt.xlabel(\"Date\")\n",
    "plt.ylabel(\"Close Value\")\n",
    "\n",
    "plt.grid()\n",
    "plt.plot(x,y)\n",
    "plt.show()"
   ]
  },
  {
   "cell_type": "code",
   "execution_count": null,
   "id": "035a5f30",
   "metadata": {},
   "outputs": [],
   "source": [
    "'''\n",
    "yesterday's closing -> next day's price\n",
    "'''\n",
    "sp500[\"Tomorrow\"] = sp500[\"Close\"].shift(-1)\n",
    "# example\n",
    "# sp500[[\"Tomorrow\",\"Close\"]]\n",
    "'''\n",
    "2024-08-26 close is: 5616.839844\n",
    "2024-08-27 tomorrow is: 5592.180176\n",
    "'''"
   ]
  },
  {
   "cell_type": "code",
   "execution_count": null,
   "id": "33d35874",
   "metadata": {},
   "outputs": [],
   "source": [
    "# example\n",
    "ex = sp500[[\"Close\", \"Tomorrow\"]]\n",
    "ex"
   ]
  },
  {
   "cell_type": "code",
   "execution_count": null,
   "id": "0a99a9b3",
   "metadata": {},
   "outputs": [],
   "source": [
    "'''\n",
    "2024-08-26 tomorrow is: 5625.799805 \n",
    "\n",
    "2024-08-27 close is: 5625.799805\n",
    "\n",
    "tomorrow is 27, the closing to 27 is 5625.799805\n",
    "\n",
    "'''\n",
    "ex.tail(5)"
   ]
  },
  {
   "cell_type": "code",
   "execution_count": null,
   "id": "20510f02",
   "metadata": {},
   "outputs": [],
   "source": []
  }
 ],
 "metadata": {
  "kernelspec": {
   "display_name": "Python 3 (ipykernel)",
   "language": "python",
   "name": "python3"
  },
  "language_info": {
   "codemirror_mode": {
    "name": "ipython",
    "version": 3
   },
   "file_extension": ".py",
   "mimetype": "text/x-python",
   "name": "python",
   "nbconvert_exporter": "python",
   "pygments_lexer": "ipython3",
   "version": "3.11.4"
  }
 },
 "nbformat": 4,
 "nbformat_minor": 5
}
